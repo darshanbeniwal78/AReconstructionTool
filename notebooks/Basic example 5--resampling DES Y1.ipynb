{
 "cells": [
  {
   "cell_type": "markdown",
   "metadata": {},
   "source": [
    "# Resampling DES Y1\n",
    "\n",
    "The DES Y1 3x2pt analysis is a tricky beast because it has SO many parameters (26). Samplers don't know the marginal likelihoods of only the interesting parameters (cosmology), and only ever report the joint posterior of all parameters given the data. For this reason, if we want to resample the DES Y1 chain, we have to traing the Gaussian processes on all parameters in the chain.\n",
    "\n",
    "## This notebook is in development."
   ]
  },
  {
   "cell_type": "code",
   "execution_count": null,
   "metadata": {},
   "outputs": [],
   "source": [
    "#Import things\n",
    "import numpy as np\n",
    "import matplotlib.pyplot as plt\n",
    "import resampler as samp\n",
    "import scipy.optimize as op\n",
    "import chainconsumer as CC\n",
    "import emcee #for doing MCMC\n",
    "%matplotlib inline"
   ]
  },
  {
   "cell_type": "code",
   "execution_count": null,
   "metadata": {},
   "outputs": [],
   "source": [
    "#Plot formatting\n",
    "plt.rc(\"font\", size=18, family=\"serif\")\n",
    "plt.rc(\"text\", usetex=True)"
   ]
  },
  {
   "cell_type": "code",
   "execution_count": null,
   "metadata": {},
   "outputs": [],
   "source": [
    "#Read in the chain\n",
    "input_chain = np.load(\"DES_data/DES_vc_params.npy\")\n",
    "lnpost = np.load(\"DES_data/DES_vc_lnpost.npy\")\n",
    "weights = np.load(\"DES_data/DES_vc_weights.npy\")\n",
    "print(\"chain shape is   \", input_chain.shape)\n",
    "print(\"lnpost shape is  \", lnpost.shape)\n",
    "print(\"weights shape is \", weights.shape)"
   ]
  },
  {
   "cell_type": "code",
   "execution_count": null,
   "metadata": {},
   "outputs": [],
   "source": [
    "#Pick out training points\n",
    "N_training = 1200\n",
    "IS = isamp.ImportanceSampler(input_chain, lnpost, scale = 3.5)\n",
    "IS.select_training_points(N_training, method=\"LH\")"
   ]
  },
  {
   "cell_type": "code",
   "execution_count": null,
   "metadata": {},
   "outputs": [],
   "source": [
    "#Train the GP inside of the sampler\n",
    "IS.train()"
   ]
  },
  {
   "cell_type": "code",
   "execution_count": null,
   "metadata": {},
   "outputs": [],
   "source": [
    "plt.scatter(input_chain[-10000:,4],input_chain[-10000:,0])\n",
    "points,_ = IS.get_training_data()\n",
    "plt.scatter(points[:,4], points[:,0], c='k', s=10)"
   ]
  },
  {
   "cell_type": "code",
   "execution_count": null,
   "metadata": {},
   "outputs": [],
   "source": [
    "#Resample the chain with an MCMC\n",
    "start = np.loadtxt(\"DES_data/DES_vc_bestfit.txt\")\n",
    "\n",
    "nwalkers = 200\n",
    "ndim = len(input_chain[0])\n",
    "\n",
    "sampler = emcee.EnsembleSampler(nwalkers, ndim, IS.predict)\n",
    "\n",
    "print(\"Running first burn-in\")\n",
    "p0 = np.array([start + start*1e-3*np.random.randn(ndim) for i in range(nwalkers)])\n",
    "p0, lp, _ = sampler.run_mcmc(p0, 1000)\n",
    "print(\"Running second burn-in\")\n",
    "p0 = p0[np.argmax(lp)] + p0[np.argmax(lp)]*1e-4*np.random.randn(nwalkers, ndim)\n",
    "p0, lp, _ = sampler.run_mcmc(p0, 1000)\n",
    "sampler.reset()\n",
    "print(\"Running production...\")\n",
    "sampler.run_mcmc(p0, 3000);"
   ]
  },
  {
   "cell_type": "code",
   "execution_count": null,
   "metadata": {},
   "outputs": [],
   "source": [
    "test_chain = sampler.flatchain\n",
    "#print(\"Means and stds of input chain: \", np.mean(input_chain, 0)[:4], np.std(input_chain, 0)[:4])\n",
    "#print(\"Means and stds of test chain:  \", np.mean(test_chain, 0)[:4], np.std(test_chain, 0)[:4])"
   ]
  },
  {
   "cell_type": "code",
   "execution_count": null,
   "metadata": {},
   "outputs": [],
   "source": [
    "c = CC.ChainConsumer()\n",
    "\n",
    "plot_input_chain = [input_chain[:,4], input_chain[:,0]]\n",
    "plot_test_chain = [test_chain[:,4], test_chain[:,0]]\n",
    "\n",
    "#labels = [r\"$\\Omega_m$\", r\"$h$\", r\"$\\Omega_b$\", r\"$n_s$\", r\"$A_s$\"]\n",
    "labels = [r\"$\\Omega_m$\", r\"$A_s$\"]\n",
    "\n",
    "c.add_chain(plot_input_chain, parameters=labels, name=\"Input chain\", weights=weights)\n",
    "c.add_chain(plot_test_chain, parameters=labels, name=\"Resampled chain\")\n",
    "\n",
    "fig = c.plotter.plot()\n",
    "#fig.savefig(\"DESY1_resampling_example.png\", dpi=300, bbox_inches=\"tight\")"
   ]
  },
  {
   "cell_type": "code",
   "execution_count": null,
   "metadata": {},
   "outputs": [],
   "source": [
    "c2 = CC.ChainConsumer()\n",
    "\n",
    "c2.add_chain(input_chain[:,:5], name=\"Input chain\", weights=weights)\n",
    "c2.add_chain(test_chain[:,:5], name=\"Resampled chain\")\n",
    "\n",
    "fig = c2.plotter.plot()\n",
    "#fig.savefig(\"DESY1_resampling_example.png\", dpi=300, bbox_inches=\"tight\")"
   ]
  },
  {
   "cell_type": "code",
   "execution_count": null,
   "metadata": {},
   "outputs": [],
   "source": []
  }
 ],
 "metadata": {
  "kernelspec": {
   "display_name": "Python 2",
   "language": "python",
   "name": "python2"
  },
  "language_info": {
   "codemirror_mode": {
    "name": "ipython",
    "version": 2
   },
   "file_extension": ".py",
   "mimetype": "text/x-python",
   "name": "python",
   "nbconvert_exporter": "python",
   "pygments_lexer": "ipython2",
   "version": "2.7.13"
  }
 },
 "nbformat": 4,
 "nbformat_minor": 2
}
